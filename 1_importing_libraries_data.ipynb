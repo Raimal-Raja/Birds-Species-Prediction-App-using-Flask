{
 "cells": [
  {
   "cell_type": "markdown",
   "id": "3136c337",
   "metadata": {},
   "source": [
    "### Bird Species Predication"
   ]
  },
  {
   "cell_type": "markdown",
   "id": "becc2cd0",
   "metadata": {},
   "source": [
    "In this project i will create a Convolutional neural Network which will be able to predict species of the bird. I will use different layers and other hyperparameters for buildingm training and testing this multiclass classification model. I will be suing keras for this project."
   ]
  },
  {
   "cell_type": "code",
   "execution_count": null,
   "id": "d6f5a6d4",
   "metadata": {},
   "outputs": [],
   "source": []
  }
 ],
 "metadata": {
  "kernelspec": {
   "display_name": ".venv",
   "language": "python",
   "name": "python3"
  },
  "language_info": {
   "name": "python",
   "version": "3.10.0"
  }
 },
 "nbformat": 4,
 "nbformat_minor": 5
}
